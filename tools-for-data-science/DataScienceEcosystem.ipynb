{
 "cells": [
  {
   "cell_type": "markdown",
   "id": "59d1fcf4-4bb7-4b11-beba-670070a63bfa",
   "metadata": {},
   "source": [
    "# Data Science Tools and Ecosystem\n"
   ]
  },
  {
   "cell_type": "markdown",
   "id": "b782edd2-5a47-41dd-bef7-ba98f38a808a",
   "metadata": {},
   "source": [
    "## Author\n",
    "Brandon A. Perez\n"
   ]
  },
  {
   "cell_type": "markdown",
   "id": "91375f5a-0430-4e7c-8a10-4da59d556a0e",
   "metadata": {},
   "source": [
    "#### Objectives\n",
    "- List languages, libraries, and tools commonly used by Data Scientists\n",
    "- Show simple arithmetic done with Python\n",
    "- Show how algebraic expressions such as minutes to hours execute with Python\n",
    "- Exemplify skill to format in multiple ways using Jupyter\n"
   ]
  },
  {
   "cell_type": "markdown",
   "id": "e53b7d2c-3c3e-42d0-9912-fa5ba42996c8",
   "metadata": {},
   "source": [
    "In this notebook, Data Science Tools and Ecosystem are summarized."
   ]
  },
  {
   "cell_type": "markdown",
   "id": "e6f96a64-e51c-4021-98bf-b9c740760158",
   "metadata": {},
   "source": [
    "Some of the popular languages that Data Scientists use are:\n",
    "1. Python\n",
    "2. Scala\n",
    "3. R"
   ]
  },
  {
   "cell_type": "markdown",
   "id": "e3202ab0-519c-449b-a15a-78e8df5fc307",
   "metadata": {
    "tags": []
   },
   "source": [
    "Some of the commonly used libraries used by Data Scientists include:\n",
    "1. GGplot\n",
    "2. Plotly\n",
    "3. Numpy\n",
    "4. Pandas\n"
   ]
  },
  {
   "cell_type": "markdown",
   "id": "e4e3106a-16f1-4fae-a854-924f326ac96b",
   "metadata": {},
   "source": [
    "| Data Science Tools |\n",
    "|--------------------|\n",
    "| Jupyter Labs |\n",
    "| R Studio |\n",
    "| GitHub |"
   ]
  },
  {
   "cell_type": "markdown",
   "id": "f0a7fa73-e531-4b4c-8c98-cf760ea262b5",
   "metadata": {},
   "source": [
    "### Below are a few examples of evaluating arithmetic expressions in Python."
   ]
  },
  {
   "cell_type": "code",
   "execution_count": 1,
   "id": "23bf1322-4ff2-4d8d-bbb7-37962d4364dd",
   "metadata": {
    "tags": []
   },
   "outputs": [
    {
     "data": {
      "text/plain": [
       "17"
      ]
     },
     "execution_count": 1,
     "metadata": {},
     "output_type": "execute_result"
    }
   ],
   "source": [
    "# This a simple arithmetic expression to mutiply then add integers\n",
    "(3*4)+5"
   ]
  },
  {
   "cell_type": "code",
   "execution_count": 2,
   "id": "3842393c-bbff-4661-872e-e8192db9498a",
   "metadata": {
    "tags": []
   },
   "outputs": [
    {
     "name": "stdout",
     "output_type": "stream",
     "text": [
      "200 minutes is equivalent to 3.3333333333333335 hours\n"
     ]
    }
   ],
   "source": [
    "# This will convert 200 minutes to hours by diving by 60\n",
    "minutes = 200\n",
    "\n",
    "hours = minutes/60\n",
    "\n",
    "print(f'{minutes} minutes is equivalent to {hours} hours')"
   ]
  }
 ],
 "metadata": {
  "kernelspec": {
   "display_name": "Python 3 (ipykernel)",
   "language": "python",
   "name": "python3"
  },
  "language_info": {
   "codemirror_mode": {
    "name": "ipython",
    "version": 3
   },
   "file_extension": ".py",
   "mimetype": "text/x-python",
   "name": "python",
   "nbconvert_exporter": "python",
   "pygments_lexer": "ipython3",
   "version": "3.11.5"
  }
 },
 "nbformat": 4,
 "nbformat_minor": 5
}
